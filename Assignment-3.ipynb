{
 "cells": [
  {
   "cell_type": "code",
   "execution_count": 32,
   "id": "e0717780",
   "metadata": {},
   "outputs": [],
   "source": [
    "import numpy as np\n",
    "import pandas as pd\n",
    "import random\n",
    "import tensorflow as tf\n",
    "from tensorflow import keras\n",
    "from keras.models import Sequential\n",
    "from keras.layers import Dense, Conv2D, Dropout, Flatten, MaxPooling2D\n",
    "import matplotlib.pyplot as plt\n",
    "from sklearn.metrics import accuracy_score\n",
    "from tensorflow.keras.optimizers import SGD\n",
    "from tensorflow.keras.utils import to_categorical\n",
    "from tensorflow.keras.datasets import mnist"
   ]
  },
  {
   "cell_type": "code",
   "execution_count": 33,
   "id": "245f8524",
   "metadata": {},
   "outputs": [],
   "source": [
    "(x_train,y_train),(x_test,y_test)=mnist.load_data()"
   ]
  },
  {
   "cell_type": "code",
   "execution_count": 34,
   "id": "9769736e",
   "metadata": {},
   "outputs": [
    {
     "name": "stdout",
     "output_type": "stream",
     "text": [
      "(60000, 28, 28)\n"
     ]
    }
   ],
   "source": [
    "print(x_train.shape)"
   ]
  },
  {
   "cell_type": "code",
   "execution_count": 35,
   "id": "2413c47f",
   "metadata": {},
   "outputs": [
    {
     "data": {
      "text/plain": [
       "(0, 255)"
      ]
     },
     "execution_count": 35,
     "metadata": {},
     "output_type": "execute_result"
    }
   ],
   "source": [
    "x_train[0].min(), x_train[0].max()"
   ]
  },
  {
   "cell_type": "code",
   "execution_count": 36,
   "id": "62560b7f",
   "metadata": {},
   "outputs": [
    {
     "data": {
      "text/plain": [
       "(0.0, 1.0)"
      ]
     },
     "execution_count": 36,
     "metadata": {},
     "output_type": "execute_result"
    }
   ],
   "source": [
    "x_train=(x_train - 0.0)/(255.0-0.0)\n",
    "x_test=(x_test-0.0)/(255.0-0.0)\n",
    "x_train[0].min(), x_train[0].max()"
   ]
  },
  {
   "cell_type": "code",
   "execution_count": 37,
   "id": "bcf93216",
   "metadata": {},
   "outputs": [
    {
     "data": {
      "image/png": "[encoded data removed]",
      "text/plain": [
       "<Figure size 1152x720 with 20 Axes>"
      ]
     },
     "metadata": {},
     "output_type": "display_data"
    }
   ],
   "source": [
    "def plot_digit(image, digit, plt, i):\n",
    "    plt.subplot(4, 5, i+1)\n",
    "    plt.imshow(image, cmap=plt.get_cmap('gray'))\n",
    "    plt.title(f\"Digit: {digit}\")\n",
    "    plt.xticks([])\n",
    "    plt.yticks([])\n",
    "plt.figure(figsize=(16,10))\n",
    "for i in range(20):\n",
    "    plot_digit(x_train[i], y_train[i], plt, i)\n",
    "plt.show()"
   ]
  },
  {
   "cell_type": "code",
   "execution_count": 38,
   "id": "0c897852",
   "metadata": {},
   "outputs": [],
   "source": [
    "x_train=x_train.reshape((x_train.shape+(1,)))\n",
    "x_test=x_test.reshape((x_test.shape+(1,)))"
   ]
  },
  {
   "cell_type": "code",
   "execution_count": 39,
   "id": "8152ed47",
   "metadata": {},
   "outputs": [
    {
     "data": {
      "text/plain": [
       "array([5, 0, 4, 1, 9, 2, 1, 3, 1, 4, 3, 5, 3, 6, 1, 7, 2, 8, 6, 9],\n",
       "      dtype=uint8)"
      ]
     },
     "execution_count": 39,
     "metadata": {},
     "output_type": "execute_result"
    }
   ],
   "source": [
    "y_train[0:20]"
   ]
  },
  {
   "cell_type": "code",
   "execution_count": 40,
   "id": "005aa250",
   "metadata": {},
   "outputs": [],
   "source": [
    "# x_train=x_train/255\n",
    "# x_test=x_test/255\n",
    "# print(\"Shape of Training: \",x_train.shape)\n",
    "# print(\"Shape of Testing: \",x_test.shape)"
   ]
  },
  {
   "cell_type": "code",
   "execution_count": 41,
   "id": "7db6531e",
   "metadata": {},
   "outputs": [],
   "source": [
    "model=Sequential([\n",
    "    Conv2D(32,(3,3),activation=\"relu\",input_shape=(28,28,1)),\n",
    "    MaxPooling2D((2,2)),\n",
    "    Flatten(),\n",
    "    Dense(100,activation=\"relu\"),\n",
    "    Dense(10, activation=\"softmax\")\n",
    "    \n",
    "])\n",
    "# model.add(Conv2D(28,kernel_size=(3,3),input_shape=input_shape))\n",
    "# model.add(MaxPooling2D(pool_size=(2,2)))\n",
    "# model.add(Flatten())\n",
    "# model.add(Dense(200,activation=\"relu\"))\n",
    "# model.add(Dropout(0.3))\n",
    "# model.add(Dense(10,activation=\"softmax\"))\n",
    "\n",
    "# model.summary()"
   ]
  },
  {
   "cell_type": "code",
   "execution_count": 42,
   "id": "ad0d1999",
   "metadata": {},
   "outputs": [
    {
     "name": "stdout",
     "output_type": "stream",
     "text": [
      "Model: \"sequential_3\"\n",
      "_________________________________________________________________\n",
      "Layer (type)                 Output Shape              Param #   \n",
      "=================================================================\n",
      "conv2d_2 (Conv2D)            (None, 26, 26, 32)        320       \n",
      "_________________________________________________________________\n",
      "max_pooling2d_2 (MaxPooling2 (None, 13, 13, 32)        0         \n",
      "_________________________________________________________________\n",
      "flatten_2 (Flatten)          (None, 5408)              0         \n",
      "_________________________________________________________________\n",
      "dense_4 (Dense)              (None, 100)               540900    \n",
      "_________________________________________________________________\n",
      "dense_5 (Dense)              (None, 10)                1010      \n",
      "=================================================================\n",
      "Total params: 542,230\n",
      "Trainable params: 542,230\n",
      "Non-trainable params: 0\n",
      "_________________________________________________________________\n"
     ]
    }
   ],
   "source": [
    "optimizer=SGD(learning_rate=0.01, momentum=0.9)\n",
    "model.compile(\n",
    "    optimizer=optimizer,\n",
    "    loss='sparse_categorical_crossentropy',\n",
    "    metrics=['accuracy'])\n",
    "model.summary()"
   ]
  },
  {
   "cell_type": "code",
   "execution_count": 43,
   "id": "25d6fd83",
   "metadata": {},
   "outputs": [
    {
     "name": "stdout",
     "output_type": "stream",
     "text": [
      "Epoch 1/10\n",
      "1875/1875 [==============================] - 37s 20ms/step - loss: 0.2298 - accuracy: 0.9306\n",
      "Epoch 2/10\n",
      "1875/1875 [==============================] - 35s 18ms/step - loss: 0.0745 - accuracy: 0.9776\n",
      "Epoch 3/10\n",
      "1875/1875 [==============================] - 35s 19ms/step - loss: 0.0482 - accuracy: 0.9854\n",
      "Epoch 4/10\n",
      "1875/1875 [==============================] - 33s 17ms/step - loss: 0.0350 - accuracy: 0.9890\n",
      "Epoch 5/10\n",
      "1875/1875 [==============================] - 29s 15ms/step - loss: 0.0260 - accuracy: 0.9922\n",
      "Epoch 6/10\n",
      "1875/1875 [==============================] - 29s 15ms/step - loss: 0.0189 - accuracy: 0.9944\n",
      "Epoch 7/10\n",
      "1875/1875 [==============================] - 29s 15ms/step - loss: 0.0144 - accuracy: 0.9957\n",
      "Epoch 8/10\n",
      "1875/1875 [==============================] - 29s 15ms/step - loss: 0.0101 - accuracy: 0.9971\n",
      "Epoch 9/10\n",
      "1875/1875 [==============================] - 29s 15ms/step - loss: 0.0080 - accuracy: 0.9979\n",
      "Epoch 10/10\n",
      "1875/1875 [==============================] - 29s 16ms/step - loss: 0.0057 - accuracy: 0.9987\n"
     ]
    },
    {
     "data": {
      "text/plain": [
       "<tensorflow.python.keras.callbacks.History at 0x25083267700>"
      ]
     },
     "execution_count": 43,
     "metadata": {},
     "output_type": "execute_result"
    }
   ],
   "source": [
    "model.fit(x_train,y_train,epochs=10, batch_size=32)"
   ]
  },
  {
   "cell_type": "code",
   "execution_count": 44,
   "id": "907fb62b",
   "metadata": {},
   "outputs": [
    {
     "data": {
      "image/png": "[encoded data removed]",
      "text/plain": [
       "<Figure size 1152x720 with 20 Axes>"
      ]
     },
     "metadata": {},
     "output_type": "display_data"
    }
   ],
   "source": [
    "plt.figure(figsize=(16,10))\n",
    "for i in range(20):\n",
    "    image= random.choice(x_test).squeeze()\n",
    "    digit=np.argmax(model.predict(image.reshape((1,28,28,1)))[0],axis=-1)\n",
    "    plot_digit(image,digit,plt,i)\n",
    "plt.show()"
   ]
  },
  {
   "cell_type": "code",
   "execution_count": 45,
   "id": "88049fe5",
   "metadata": {},
   "outputs": [
    {
     "data": {
      "text/plain": [
       "0.9858"
      ]
     },
     "execution_count": 45,
     "metadata": {},
     "output_type": "execute_result"
    }
   ],
   "source": [
    "predictions = np.argmax(model.predict(x_test),axis=-1)\n",
    "accuracy_score(y_test, predictions)"
   ]
  },
  {
   "cell_type": "code",
   "execution_count": 46,
   "id": "5cccc768",
   "metadata": {},
   "outputs": [
    {
     "data": {
      "image/png": "[encoded data removed]",
      "text/plain": [
       "<Figure size 432x288 with 1 Axes>"
      ]
     },
     "metadata": {
      "needs_background": "light"
     },
     "output_type": "display_data"
    }
   ],
   "source": [
    "n=random.randint(0,9999)\n",
    "plt.imshow(x_test[n])\n",
    "plt.show()"
   ]
  },
  {
   "cell_type": "code",
   "execution_count": 47,
   "id": "bb974d55",
   "metadata": {},
   "outputs": [
    {
     "name": "stdout",
     "output_type": "stream",
     "text": [
      "Handwritten number in the image is= 0\n"
     ]
    }
   ],
   "source": [
    "predicted_value=model.predict(x_test)\n",
    "print(\"Handwritten number in the image is= %d\" %np.argmax(predicted_value[n]))"
   ]
  },
  {
   "cell_type": "code",
   "execution_count": 48,
   "id": "f32a843c",
   "metadata": {},
   "outputs": [
    {
     "name": "stdout",
     "output_type": "stream",
     "text": [
      "Test loss: 0.048586707562208176\n",
      "Test accuracy: 0.98580002784729\n"
     ]
    }
   ],
   "source": [
    "score = model.evaluate(x_test,y_test,verbose=0)\n",
    "print(\"Test loss:\",score[0])\n",
    "print(\"Test accuracy:\",score[1])"
   ]
  },
  {
   "cell_type": "code",
   "execution_count": 10,
   "id": "19250486",
   "metadata": {},
   "outputs": [
    {
     "name": "stdout",
     "output_type": "stream",
     "text": [
      "313/313 [==============================] - 2s 6ms/step - loss: 0.0583 - accuracy: 0.9820\n",
      "Loss=0.058\n",
      "Accuracy=0.982\n"
     ]
    }
   ],
   "source": [
    "# test_loss,test_acc=model.evaluate(x_test,y_test)\n",
    "# print(\"Loss=%.3f\"%test_loss)\n",
    "# print(\"Accuracy=%.3f\"%test_acc)"
   ]
  },
  {
   "cell_type": "code",
   "execution_count": 12,
   "id": "46e9ae4a",
   "metadata": {},
   "outputs": [
    {
     "data": {
      "image/png": "[encoded data removed]",
      "text/plain": [
       "<Figure size 432x288 with 1 Axes>"
      ]
     },
     "metadata": {
      "needs_background": "light"
     },
     "output_type": "display_data"
    }
   ],
   "source": [
    "# image=x_train[3]\n",
    "# plt.imshow(np.squeeze(image),cmap='gray')\n",
    "# plt.show()"
   ]
  },
  {
   "cell_type": "code",
   "execution_count": 13,
   "id": "bafe8034",
   "metadata": {},
   "outputs": [],
   "source": [
    "# image=image.reshape(1,image.shape[0],image.shape[1],image.shape[2])\n",
    "# predict_model=model.predict([image])"
   ]
  },
  {
   "cell_type": "code",
   "execution_count": 14,
   "id": "06799599",
   "metadata": {},
   "outputs": [
    {
     "name": "stdout",
     "output_type": "stream",
     "text": [
      "Predicted Class:{} 1\n"
     ]
    }
   ],
   "source": [
    "# print(\"Predicted Class:{}\",format(np.argmax(predict_model)))"
   ]
  },
  {
   "cell_type": "code",
   "execution_count": null,
   "id": "ca80f634",
   "metadata": {},
   "outputs": [],
   "source": []
  }
 ],
 "metadata": {
  "kernelspec": {
   "display_name": "Python 3",
   "language": "python",
   "name": "python3"
  },
  "language_info": {
   "codemirror_mode": {
    "name": "ipython",
    "version": 3
   },
   "file_extension": ".py",
   "mimetype": "text/x-python",
   "name": "python",
   "nbconvert_exporter": "python",
   "pygments_lexer": "ipython3",
   "version": "3.8.8"
  }
 },
 "nbformat": 4,
 "nbformat_minor": 5
}
